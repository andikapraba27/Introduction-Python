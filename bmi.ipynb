{
 "cells": [
  {
   "cell_type": "markdown",
   "metadata": {},
   "source": [
    "# Baseball Player's BMI"
   ]
  },
  {
   "cell_type": "markdown",
   "metadata": {},
   "source": [
    "This project will be focused to the calculation of baseball player's BMI. BMI  is an abreviation of Body Mass Index, it is a measurement about the ideal proportion between height and weight. Baseball player's data was gained from MLB (Major League Baseball). You can find it in (stat.ucla.edu). I will use numpy package to calculate the BMI. First thing first, i will import the package and use it to save height and weight data from MLB using numpy array."
   ]
  },
  {
   "cell_type": "code",
   "execution_count": 47,
   "metadata": {},
   "outputs": [
    {
     "name": "stdout",
     "output_type": "stream",
     "text": [
      "[74. 74. 72. ... 75. 75. 73.]\n",
      "[180. 215. 210. ... 205. 190. 195.]\n"
     ]
    }
   ],
   "source": [
    "# Import the package\n",
    "import numpy as np\n",
    "import pandas as pd\n",
    "#import file\n",
    "baseball = np.genfromtxt('baseball.csv', delimiter=',', skip_header=1)\n",
    "#assign height and weight\n",
    "height = baseball[:,3]\n",
    "weight = baseball[:,4]\n",
    "#print first 5 data\n",
    "print(height)\n",
    "print(weight)"
   ]
  },
  {
   "cell_type": "markdown",
   "metadata": {},
   "source": [
    "Height and weight in baseball.csv data are in inches and pounds. I will change it to International Unit (metres and kg). This code will change the units of these data."
   ]
  },
  {
   "cell_type": "code",
   "execution_count": 48,
   "metadata": {},
   "outputs": [
    {
     "name": "stdout",
     "output_type": "stream",
     "text": [
      "[1.8796 1.8796 1.8288 ... 1.905  1.905  1.8542]\n",
      "[81.64656 97.52228 95.25432 ... 92.98636 86.18248 88.45044]\n"
     ]
    }
   ],
   "source": [
    "# Create array from height with correct units\n",
    "height_m = np.array(height) * 0.0254\n",
    "\n",
    "# Create array from weight with correct units\n",
    "weight_kg = np.array(weight) * 0.453592\n",
    "\n",
    "#print\n",
    "print(height_m)\n",
    "print(weight_kg)"
   ]
  },
  {
   "cell_type": "markdown",
   "metadata": {},
   "source": [
    "Using this new data, i will calculate the BMI for each height and weight data using this equation. \n",
    "\\begin{align}\n",
    "BMI = \\frac{weight}{(height)^2}\n",
    "\\end{align}"
   ]
  },
  {
   "cell_type": "code",
   "execution_count": 49,
   "metadata": {},
   "outputs": [
    {
     "name": "stdout",
     "output_type": "stream",
     "text": [
      "[23.11037639 27.60406069 28.48080465 ... 25.62295933 23.74810865\n",
      " 25.72686361]\n"
     ]
    }
   ],
   "source": [
    "# Calculate the BMI: bmi\n",
    "bmi = np_weight_kg/np_height_m ** 2\n",
    "\n",
    "# Print out bmi\n",
    "print(bmi)"
   ]
  },
  {
   "cell_type": "markdown",
   "metadata": {},
   "source": [
    "There are several categories that we can group baseball players based on the BMI value. For BMI < 18.5, it means that you have less weight than normal. BMI in the interval 18.5 and 22.9 is the ideal body. BMI in 23 - 29.9 means that you had more weight than normal, and BMI > 30 means that you had an obesity. In this part, we will see the number of baseball players that had obesities body mass."
   ]
  },
  {
   "cell_type": "code",
   "execution_count": 50,
   "metadata": {},
   "outputs": [
    {
     "name": "stdout",
     "output_type": "stream",
     "text": [
      "The percentage of baseball players, that had a good body proportion: 4.630541871921182%\n"
     ]
    }
   ],
   "source": [
    "# Create the normal array\n",
    "obes = bmi > 29.9\n",
    "\n",
    "#calculate the percentage\n",
    "print('The percentage of baseball players, that had a good body proportion: ' + str(sum(obes)*100/len(bmi)) + '%')\n"
   ]
  },
  {
   "cell_type": "markdown",
   "metadata": {},
   "source": [
    "Using numpy, we can calculate the mean and median from this data. In the next step, we will calculate this value for height and weight. "
   ]
  },
  {
   "cell_type": "code",
   "execution_count": 51,
   "metadata": {},
   "outputs": [
    {
     "name": "stdout",
     "output_type": "stream",
     "text": [
      "73.6896551724138\n",
      "74.0\n",
      "201.34876847290641\n",
      "200.0\n"
     ]
    }
   ],
   "source": [
    "# Print out the mean of height\n",
    "print(np.mean(height))\n",
    "\n",
    "# Print out the median of height\n",
    "print(np.median(height))\n",
    "\n",
    "#print out the mean of weight\n",
    "print(np.mean(weight))\n",
    "\n",
    "#print out the median of weight\n",
    "print(np.median(weight))"
   ]
  },
  {
   "cell_type": "markdown",
   "metadata": {},
   "source": [
    "We will search an information about correlation between height and weight. With this information, we will know if big players tend to be heavier."
   ]
  },
  {
   "cell_type": "code",
   "execution_count": 54,
   "metadata": {},
   "outputs": [
    {
     "name": "stdout",
     "output_type": "stream",
     "text": [
      "Correlation: 0.5315393226146095\n"
     ]
    }
   ],
   "source": [
    "# Print out correlation between first and second column\n",
    "corr = np.corrcoef(height,weight)\n",
    "print(\"Correlation: \" + str(corr[0][1]))"
   ]
  },
  {
   "cell_type": "markdown",
   "metadata": {},
   "source": [
    "From this value, we can get a conclusion that height and weight have a correlation 0.53. This value conclude that in general big players tend to be heavier. We can saw it in the scatter plot below. "
   ]
  },
  {
   "cell_type": "code",
   "execution_count": 63,
   "metadata": {},
   "outputs": [
    {
     "data": {
      "text/plain": [
       "Text(0.5,1,'Weight and Height of Baseball Players')"
      ]
     },
     "execution_count": 63,
     "metadata": {},
     "output_type": "execute_result"
    },
    {
     "data": {
      "image/png": "[encoded data removed]",
      "text/plain": [
       "<Figure size 432x288 with 1 Axes>"
      ]
     },
     "metadata": {},
     "output_type": "display_data"
    }
   ],
   "source": [
    "%matplotlib inline\n",
    "#import module\n",
    "import matplotlib.pyplot as plt\n",
    "\n",
    "#Plot the necessary data\n",
    "plt.scatter(weight_kg, height_m)\n",
    "plt.xlabel('weight (kg)')\n",
    "plt.ylabel('height (m)')\n",
    "plt.title('Weight and Height of Baseball Players')"
   ]
  }
 ],
 "metadata": {
  "kernelspec": {
   "display_name": "Python 3",
   "language": "python",
   "name": "python3"
  },
  "language_info": {
   "codemirror_mode": {
    "name": "ipython",
    "version": 3
   },
   "file_extension": ".py",
   "mimetype": "text/x-python",
   "name": "python",
   "nbconvert_exporter": "python",
   "pygments_lexer": "ipython3",
   "version": "3.6.5"
  }
 },
 "nbformat": 4,
 "nbformat_minor": 2
}
