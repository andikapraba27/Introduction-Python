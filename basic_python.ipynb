{
 "cells": [
  {
   "cell_type": "markdown",
   "metadata": {},
   "source": [
    "# DASAR PYTHON"
   ]
  },
  {
   "cell_type": "markdown",
   "metadata": {},
   "source": [
    "Pada jupyter notebook ini akan dijelaskan mengenai perintah-perintah dasar yang dapat dilakukan dalam pemrograman python. Python merupakan bahasa pemrograman dengan fungsi yang sangat luas. Python digunakan untuk melakukan perhitungan matematis, membangun database, mem\"bersih\"kan data dan menganalisis data, dan lain-lain. Berikut merupakan contoh operasi matematis sederhana.  "
   ]
  },
  {
   "cell_type": "code",
   "execution_count": 6,
   "metadata": {},
   "outputs": [
    {
     "name": "stdout",
     "output_type": "stream",
     "text": [
      "(5 / 8) =  0.625\n",
      "7 + 10 =  17\n"
     ]
    }
   ],
   "source": [
    "# Example, do not modify!\n",
    "print(\"(5 / 8) = \", 5 / 8)\n",
    "\n",
    "# Put code below here\n",
    "print(\"7 + 10 = \", 7 + 10)\n"
   ]
  },
  {
   "cell_type": "markdown",
   "metadata": {},
   "source": [
    "Penambahan komentar yang memberikan informasi yang diperlukan dalam pembuatan program, dapat menggunakan syntax '#'."
   ]
  },
  {
   "cell_type": "markdown",
   "metadata": {},
   "source": [
    "## Python sebagai Kalkulator "
   ]
  },
  {
   "cell_type": "markdown",
   "metadata": {},
   "source": [
    "Python dapat digunakan dalam perhitungan dasar, seperti penambahan, pengurangan, perkalian, dan pembagian. Selain itu terdapat fungsi eksponensial dengan syntax 2 ** 2 = 4 . Modulo untuk menghitung sisa pembagian dengan syntax 2 % 2 = 0. Contoh kasusnya ketika anda memiliki uang sebesar $100 yang diinvestasikan dengan return sebesar 10% tiap tahun. Hitung berapa uang anda setelah 7 tahun. "
   ]
  },
  {
   "cell_type": "code",
   "execution_count": 10,
   "metadata": {},
   "outputs": [
    {
     "name": "stdout",
     "output_type": "stream",
     "text": [
      "Uang anda dalam 7 tahun : $194.87171000000012\n"
     ]
    }
   ],
   "source": [
    "# How much is your $100 worth after 7 years?\n",
    "print('Uang anda dalam 7 tahun : $' + str(100*1.1**7))"
   ]
  },
  {
   "cell_type": "markdown",
   "metadata": {},
   "source": [
    "## Mendefinisikan Variabel"
   ]
  },
  {
   "cell_type": "markdown",
   "metadata": {},
   "source": [
    "Pada python, dapat memberikan suatu nilai ke dalam variabel. Hal ini dapat dilakukan dengan kode sebagai berikut."
   ]
  },
  {
   "cell_type": "code",
   "execution_count": 11,
   "metadata": {},
   "outputs": [
    {
     "name": "stdout",
     "output_type": "stream",
     "text": [
      "100\n"
     ]
    }
   ],
   "source": [
    "# Create a variable savings\n",
    "savings = 100\n",
    "\n",
    "# Print out savings\n",
    "print(savings)"
   ]
  },
  {
   "cell_type": "markdown",
   "metadata": {},
   "source": [
    "Variabel dapat diberikan suatu proses perhitungan. Sebagai contoh dengan menggunakan kasus yang sama pada bagian python sebagai kalkulator, dengan mendefinisikan uang sebagai savings, bunga sebagai factor, dan result sebagai hasil."
   ]
  },
  {
   "cell_type": "code",
   "execution_count": 12,
   "metadata": {},
   "outputs": [
    {
     "name": "stdout",
     "output_type": "stream",
     "text": [
      "194.87171000000012\n"
     ]
    }
   ],
   "source": [
    "# Create a variable savings\n",
    "savings = 100\n",
    "\n",
    "# Create a variable factor\n",
    "factor = 1.10\n",
    "\n",
    "# Calculate result\n",
    "result = savings * factor ** 7\n",
    "\n",
    "# Print out result\n",
    "print(result)"
   ]
  },
  {
   "cell_type": "markdown",
   "metadata": {},
   "source": [
    "## Tipe Data Lainnya"
   ]
  },
  {
   "cell_type": "markdown",
   "metadata": {},
   "source": [
    "Pada latihan sebelumnya, anda menggunakan 2 tipe data, yaitu int (integer), dan float. Terdapat tipe data lain yang wajib anda tahu, yaitu str (string) yang merepresentasikan data dengan tipe text. Untuk inisialisasi data ini dapat menggunakan tanda '' dan \"\". Selanjutnya adalah Bool (Boolean) yang merepresentasikan data logika, terdiri dari True dan False. Penebakan tipe file, dapat menggunakan fungsi type(), dengan memasukkan variabel yang diinginkan ke dalam kurung pada fungsi type tersebut.\n"
   ]
  },
  {
   "cell_type": "code",
   "execution_count": 15,
   "metadata": {},
   "outputs": [
    {
     "name": "stdout",
     "output_type": "stream",
     "text": [
      "<class 'str'> <class 'bool'>\n"
     ]
    }
   ],
   "source": [
    "# Create a variable desc\n",
    "desc = \"compound interest\"\n",
    "\n",
    "# Create a variable profitable\n",
    "profitable = True\n",
    "\n",
    "#print data type\n",
    "print(type(desc), type(profitable))"
   ]
  },
  {
   "cell_type": "markdown",
   "metadata": {},
   "source": [
    "## Operasi pada Variabel dengan Tipe Berbeda "
   ]
  },
  {
   "cell_type": "markdown",
   "metadata": {},
   "source": [
    "Pada python, ketika variabel memiliki tipe variabel yang berbeda maka proses operasi yang dilakukan pada keduanya memberikan hasil yang berbeda. Berikut akan ditampilkan proses perkalian pada data numerik dan proses penambahan pada data string. "
   ]
  },
  {
   "cell_type": "code",
   "execution_count": 16,
   "metadata": {},
   "outputs": [
    {
     "name": "stdout",
     "output_type": "stream",
     "text": [
      "<class 'float'>\n",
      "compound interestcompound interest\n"
     ]
    }
   ],
   "source": [
    "# Several variables to experiment with\n",
    "savings = 100\n",
    "factor = 1.1\n",
    "desc = \"compound interest\"\n",
    "\n",
    "# Assign product of factor and savings to year1\n",
    "year1 = savings * factor\n",
    "\n",
    "# Print the type of year1\n",
    "print(type(year1))\n",
    "\n",
    "# Assign sum of desc and desc to doubledesc\n",
    "doubledesc = desc + desc\n",
    "\n",
    "# Print out doubledesc\n",
    "print(doubledesc)"
   ]
  },
  {
   "cell_type": "markdown",
   "metadata": {},
   "source": [
    "Untuk menampilkan suatu hasil perhitungan dengan menggunakan syntax print dapat dilakukan dengan mengubah tipe file menjadi string dengan menggunakan fungsi str(). Perubahan tipe variabel ke tipe lainnya dapat menggunaka syntax seperti int(), float(), dan bool()."
   ]
  },
  {
   "cell_type": "code",
   "execution_count": 17,
   "metadata": {},
   "outputs": [
    {
     "name": "stdout",
     "output_type": "stream",
     "text": [
      "I started with $100 and now have $194.87171000000012. Awesome!\n",
      "<class 'str'> <class 'float'>\n"
     ]
    }
   ],
   "source": [
    "# Fix the printout\n",
    "print(\"I started with $\" + str(savings) + \" and now have $\" + str(result) + \". Awesome!\")\n",
    "\n",
    "# Definition of pi_string\n",
    "pi_string = \"3.1415926\"\n",
    "\n",
    "# Convert pi_string into float: pi_float\n",
    "pi_float = float(pi_string)\n",
    "\n",
    "#print data type\n",
    "print(type(pi_string), type(pi_float))"
   ]
  }
 ],
 "metadata": {
  "kernelspec": {
   "display_name": "Python 3",
   "language": "python",
   "name": "python3"
  },
  "language_info": {
   "codemirror_mode": {
    "name": "ipython",
    "version": 3
   },
   "file_extension": ".py",
   "mimetype": "text/x-python",
   "name": "python",
   "nbconvert_exporter": "python",
   "pygments_lexer": "ipython3",
   "version": "3.6.5"
  }
 },
 "nbformat": 4,
 "nbformat_minor": 2
}
